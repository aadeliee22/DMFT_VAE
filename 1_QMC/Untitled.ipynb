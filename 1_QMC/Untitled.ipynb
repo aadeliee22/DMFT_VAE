{
 "cells": [
  {
   "cell_type": "code",
   "execution_count": 1,
   "metadata": {},
   "outputs": [],
   "source": [
    "import matplotlib.pyplot as plt\n",
    "import matplotlib.patches as mpatches\n",
    "import matplotlib as mpl\n",
    "import numpy as np\n",
    "from matplotlib import rc\n",
    "\n",
    "import numpy as np\n",
    "import matplotlib.pyplot as plt\n",
    "import torch\n",
    "import torch.optim as optim\n",
    "import torch.nn as nn\n",
    "import torch.nn.functional as F\n",
    "import os.path as path\n",
    "import matplotlib.ticker as ticker\n",
    "from scipy.integrate import simps, trapz\n",
    "\n",
    "import matplotlib as mpl\n",
    "mpl.rcParams.update({\n",
    "    'font.family' : 'STIXGeneral',\n",
    "    'mathtext.fontset' : 'stix',\n",
    "    'xtick.direction' : 'in' ,\n",
    "    'xtick.labelsize' : 17.5 ,\n",
    "    'xtick.top' : True ,\n",
    "    'xtick.major.width' : 1.5,\n",
    "    'xtick.major.size' : 6,\n",
    "    'ytick.direction' : 'in' ,\n",
    "    'ytick.labelsize' : 17.5 ,\n",
    "    'ytick.right' : True ,\n",
    "    'ytick.major.width' : 1.5,\n",
    "    'ytick.major.size' : 6,\n",
    "    'axes.labelsize' : 18,\n",
    "    'legend.frameon' : False,\n",
    "    'legend.fontsize' : 13,\n",
    "    'legend.handlelength' : 1.5,\n",
    "    'savefig.dpi' : 600, \n",
    "    'savefig.bbox' : 'tight',\n",
    "    'axes.linewidth' : 1.5,\n",
    "})\n",
    "import matplotlib.ticker as ticker\n",
    "from mpl_toolkits.axes_grid1.inset_locator import inset_axes"
   ]
  },
  {
   "cell_type": "code",
   "execution_count": 6,
   "metadata": {},
   "outputs": [
    {
     "data": {
      "image/png": "[encoded data removed]",
      "text/plain": [
       "<Figure size 432x288 with 1 Axes>"
      ]
     },
     "metadata": {
      "needs_background": "light"
     },
     "output_type": "display_data"
    },
    {
     "data": {
      "text/plain": [
       "[<matplotlib.lines.Line2D at 0x7f32fc2beee0>]"
      ]
     },
     "execution_count": 6,
     "metadata": {},
     "output_type": "execute_result"
    },
    {
     "data": {
      "image/png": "[encoded data removed]",
      "text/plain": [
       "<Figure size 432x288 with 1 Axes>"
      ]
     },
     "metadata": {
      "needs_background": "light"
     },
     "output_type": "display_data"
    }
   ],
   "source": [
    "directory = 'Bethe_14_beta40'\n",
    "#omega = np.pi/100 * (2*np.arange(5000)+1)\n",
    "omega, Giwr, Giwi = np.loadtxt(f'{directory}/Giwn-1.00.dat', unpack = True, dtype = 'float64')\n",
    "Sigmar = 1j*omega - 1/4*(Giwr+1j*Giwi) - 1/(Giwr+1j*Giwi)\n",
    "plt.plot(omega, Sigmar.imag, 'bo', mfc='none', ms=10)\n",
    "plt.axhline(y=0)\n",
    "plt.xlim(0, 5)\n",
    "plt.show()\n",
    "\n",
    "plt.plot(omega, Giwi, 'bo')"
   ]
  },
  {
   "cell_type": "code",
   "execution_count": null,
   "metadata": {},
   "outputs": [],
   "source": []
  }
 ],
 "metadata": {
  "kernelspec": {
   "display_name": "Python 3",
   "language": "python",
   "name": "python3"
  },
  "language_info": {
   "codemirror_mode": {
    "name": "ipython",
    "version": 3
   },
   "file_extension": ".py",
   "mimetype": "text/x-python",
   "name": "python",
   "nbconvert_exporter": "python",
   "pygments_lexer": "ipython3",
   "version": "3.8.5"
  }
 },
 "nbformat": 4,
 "nbformat_minor": 4
}
